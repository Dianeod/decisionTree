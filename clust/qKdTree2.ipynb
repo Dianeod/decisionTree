{
 "cells": [
  {
   "cell_type": "code",
   "execution_count": 201,
   "metadata": {},
   "outputs": [],
   "source": [
    "\\l cureOrig.q\n",
    "sample:readsam[SIMPLE_SAMPLES[`:SAMPLE_SIMPLE1]]`\n",
    "/show sample:readsam[FCPS_SAMPLES[`:SAMPLE_CHAINLINK]]`\n",
    "/sample:readsam[FCPS_SAMPLES[`:SAMPLE_TARGET]]`"
   ]
  },
  {
   "cell_type": "code",
   "execution_count": 202,
   "metadata": {},
   "outputs": [
    {
     "name": "stdout",
     "output_type": "stream",
     "text": [
      "6.554487 7.498119\n",
      "3.522979 5.487981\n",
      "3.768699 5.364477\n",
      "3.423602 5.4199  \n",
      "3.803905 5.389491\n",
      "3.93669  5.663041\n",
      "6.968136 7.755556\n",
      "6.750795 7.269541\n",
      "6.593196 7.850364\n",
      "6.978178 7.60985 \n"
     ]
    }
   ],
   "source": [
    "show sample:sample a,((til count sample) except a:sample?((asc sample)(floor(count sample)%2)))\n",
    "dim:1_(til (first distinct count each sample)+1),1"
   ]
  },
  {
   "cell_type": "code",
   "execution_count": 2,
   "metadata": {},
   "outputs": [],
   "source": [
    "dsc:{[n;r;s](r+n?s-r)*/:(cos;sin)@\\:4*n?acos 0}\n",
    "data :flip(-5 1)+(1 1.5)*dsc[1000; 0;1.8],'dsc[2000;3.1;4.2],'dsc[4000;5.2;6.5]\n",
    "data,:flip(4 -1)+(1 8)*dsc[4000; 0;1.]\n",
    "data@:neg[2000&count data]?count data\n",
    "sample:data"
   ]
  },
  {
   "cell_type": "code",
   "execution_count": 203,
   "metadata": {},
   "outputs": [],
   "source": [
    "/insert cluster into tree\n",
    "\n",
    "insertKd:{[kd;sample2;L;clust] \n",
    "   /check if its to the left or right of initial cluster in tree\n",
    " \n",
    " dir:{(first x[0]`idx)>=0}{[sample2;kd;x] a:x[0];\n",
    "  $[first (sample2[first x[0]`dim]>(first x[0]`rDim));\n",
    "  i:update left:enlist 0,right:enlist 1 from exec idx,dim,rep,rDim from kd where right=1,parent=first a`idx;\n",
    "  i:update left:enlist 1,right:enlist 0 from exec idx,dim,rep,rDim from kd where left=1,parent=first a`idx];\n",
    "  (i;a)}[sample2;kd]/(i;i:exec from kd where parent=0,left=0,right=0); /insert cluster into the tree by looking at splitting dimension of each node &going left or right\n",
    "\n",
    " \n",
    " i:dir[0];\n",
    " a:dir[1];\n",
    " dim:((first a`dim)+1)mod 2; /get its new splitting dimension\n",
    "\n",
    "\n",
    " root:kd upsert flip update idx:(max kd`idx)+1,initi:L,clust:clust,rep:enlist sample2,\n",
    "    rDim:enlist sample2[dim],dim:enlist dim,valid:enlist 1b,\n",
    "    parent:enlist first a`idx from exec left,right from i; /update the info of new node into tree\n",
    " root}"
   ]
  },
  {
   "cell_type": "code",
   "execution_count": 5,
   "metadata": {},
   "outputs": [],
   "source": [
    "/Calculating distances between clusters using kd tree. \n",
    "\n",
    "\n",
    "distC:{[kd;pt] \n",
    "   \n",
    " distCalc:{[kd;query;bestD]\n",
    "   \n",
    " X:bestD[3]; / nodes that were already searched, not to be searched again\n",
    "    \n",
    " cl:bestD[5]; / what cluster the node belongs to, as not to search any points in the same cluster\n",
    " n:bestD[1]; /nodes to search\n",
    " a:n where {[cl;kd;x](first exec clust from kd where idx=x)<>cl}[cl;kd]each n; /nodes to search that arent in the same cluster\n",
    "  \n",
    " newD:imins,a i?imins:min i:{[kd;query;x] \n",
    "    sum m*m:(raze exec rep from kd where idx=x)-query}[kd;query] each a; /get minimum dist of all searched nodes\n",
    "\n",
    "  $[(newD[0]<bestD[0])&(count a)<>0;(bestD[0]:newD[0];bestD[2]:newD[1])\n",
    "     ;(bestD:bestD)]; /if new dist is less than current best dist, then that becomes new best dist\n",
    "  \n",
    "  axisD:(raze {[kd;bestD;query;x] $[(m*m:\n",
    "    (first exec rDim from kd where idx=x)-\n",
    "    query(first exec dim from kd where idx=x))<=bestD[0];\n",
    "    (exec idx from kd where parent=x),exec parent from kd where idx=x;\n",
    "    $[(query(first exec dim from kd where idx=x))<\n",
    "    first exec rDim from kd where idx=x;\n",
    "    (exec idx from kd where parent=x,left=1),exec parent from kd where idx=x;\n",
    "    (exec idx from kd where parent=x,right=1),exec parent from kd where idx=x]]\n",
    "    }[kd;bestD;query]each n)except bestD[3]:X,n; /get dists between node and search pts based on splitting dimension.\n",
    "    /if =< than best Dist, than search the children of that node &parents.\n",
    "    /Go up the tree and to the left/right based on whether that pt is <or> search pt\n",
    "  \n",
    " (bestD[0];distinct axisD;bestD[2];bestD[3];bestD[4];cl)};\n",
    " dist:{[distCalc;kd;X] ({(count x[1])<>0}distCalc[kd;\n",
    "    raze exec rep from kd where idx=X]/(0W;\n",
    "    (raze (exec idx from kd where parent=X),exec parent from kd where idx=X)except X;X;X;X\n",
    "    ;first exec clust from kd where idx=X))\n",
    "    }[distCalc;kd;pt];\n",
    "    \n",
    "    kdC:update closDist:dist[0],closIdx:dist[2] from kd where idx=pt; /update new closDist and idx in tree\n",
    "    kdC}"
   ]
  },
  {
   "cell_type": "code",
   "execution_count": 57,
   "metadata": {},
   "outputs": [],
   "source": [
    "/Calculating distances between clusters using kd tree. \n",
    "\n",
    "\n",
    "distC:{[kd;pt] \n",
    " kd:select from kd where valid:1b;\n",
    " distCalc:{[kd;query;bestD]\n",
    "   \n",
    " X:bestD[3]; / nodes that were already searched, not to be searched again\n",
    "    \n",
    " cl:bestD[5]; / what cluster the node belongs to, as not to search any points in the same cluster\n",
    " n:bestD[1]; /nodes to search\n",
    " a:n where {[cl;kd;x](first exec clust from kd where idx=x)<>cl}[cl;kd]each n; /nodes to search that arent in the same cluster\n",
    "  \n",
    " newD:imins,a i?imins:min i:{[kd;query;x] \n",
    "    sum m*m:(raze exec rep from kd where idx=x)-query}[kd;query] each a; /get minimum dist of all searched nodes\n",
    "\n",
    "  $[(newD[0]<bestD[0])&(count a)<>0;(bestD[0]:newD[0];bestD[2]:newD[1])\n",
    "     ;(bestD:bestD)]; /if new dist is less than current best dist, then that becomes new best dist\n",
    "  \n",
    "  axisD:(raze {[kd;bestD;query;x] $[(m*m:\n",
    "    (first exec rDim from kd where idx=x)-\n",
    "    query(first exec dim from kd where idx=x))<=bestD[0];\n",
    "    (exec idx from kd where parent=x),exec parent from kd where idx=x;\n",
    "    $[(query(first exec dim from kd where idx=x))<\n",
    "    first exec rDim from kd where idx=x;\n",
    "    (exec idx from kd where parent=x,left=1,valid=1b),exec parent from kd where idx=x,valid:1b;\n",
    "    (exec idx from kd where parent=x,right=1,valid:1b),exec parent from kd where idx=x,valid:1b]]\n",
    "    }[kd;bestD;query]each n)except bestD[3]:X,n; /get dists between node and search pts based on splitting dimension.\n",
    "    /if =< than best Dist, than search the children of that node &parents.\n",
    "    /Go up the tree and to the left/right based on whether that pt is <or> search pt\n",
    "  \n",
    " (bestD[0];distinct axisD;bestD[2];bestD[3];bestD[4];cl)};\n",
    " dist:{[distCalc;kd;X] ({(count x[1])<>0}distCalc[kd;\n",
    "    raze exec rep from kd where idx=X]/(0W;\n",
    "    (raze (exec idx from kd where parent=X,valid=1b),exec parent from kd where idx=X,valid=1b)except X;X;X;X\n",
    "    ;first exec clust from kd where idx=X,valid=1b))\n",
    "    }[distCalc;kd;pt];\n",
    "    \n",
    "    kdC:update closDist:dist[0],closIdx:dist[2] from kd where idx=pt; /update new closDist and idx in tree\n",
    "    kdC}"
   ]
  },
  {
   "cell_type": "code",
   "execution_count": 6,
   "metadata": {},
   "outputs": [],
   "source": [
    "/ delete from kd tree\n",
    "\n",
    "deleteN:{[kd;X] \n",
    " n:first exec idx from kd where initi=X;\n",
    " delN:{\n",
    "  kd:x[0]; /kdtree\n",
    "  X:x[1]; /point to be deleted\n",
    " \n",
    "  delNode:select from kd where idx=X; /details of deleted pt\n",
    "  axis:delNode`dim; /splitting dim\n",
    "\n",
    "  mindim:$[(count exec idx from kd where right=1,parent=X)=0;\n",
    "    raze {[kd;x](count exec idx from kd where\n",
    "       parent=first x)<>0}[kd]{[kd;x]raze exec idx from kd where parent=last x}[kd]\\\n",
    "    first exec idx from kd where parent=X,left=1; / if has no right child then left child replaces \n",
    "    raze {[kd;x] (count exec idx from kd where\n",
    "       parent=first x)<>0}[kd]{[kd;x]raze exec idx from kd where parent=last x}[kd]\\\n",
    "    first exec idx from kd where parent=X,right=1]; / get all the right children if there\n",
    "\n",
    "  newP:mindim repPt?min repPt:(raze{[kd;x] exec rep from kd where idx=x}[kd]each mindim)axis; /the min value of rep pts from mindim based on splitting dimension\n",
    "  newNode:select from kd where idx=newP; /get info from kdtree of newP\n",
    "  tree:update rep:newNode`rep,initi:newNode`initi,closDist:newNode`closDist,\n",
    "    clust:newNode`clust,clustIdx:newNode`clustIdx,rDim:(first newNode`rep)axis,\n",
    "    closIdx:newNode`closIdx from kd where idx=X; /newNode replaces the deleted pt info in the tree, but dim and idx stay the same as deleted pt\n",
    "  \n",
    "\n",
    "  tree:update closIdx:X from tree where closIdx=first newNode`idx; /any pt that had the replacing pt as its closest idx has to update closIdx to its new value in the tree\n",
    "  \n",
    "\n",
    "    (tree;newP)};\n",
    "\n",
    " delCl:{(count select from (first x) where parent=last x)<>0}delN/(kd;n); /repeat this until reach a node with no children\n",
    " \n",
    " \n",
    " delete from first delCl where idx=last delCl} /delete the node with no children"
   ]
  },
  {
   "cell_type": "code",
   "execution_count": 110,
   "metadata": {},
   "outputs": [],
   "source": [
    "/ delete from kd tree\n",
    "\n",
    "deleteN:{[kd;X] \n",
    " n:first exec idx from kd where initi=X;\n",
    " delN:{\n",
    "  kd:x[0]; /kdtree\n",
    "  X:x[1]; /point to be deleted\n",
    "  delNode:select from kd where idx=X; /details of deleted pt\n",
    "  axis:delNode`dim; /splitting dim\n",
    "\n",
    "  mindim:$[(count exec idx from kd where right=1,parent=X,valid)=0;\n",
    "    raze {[kd;x](count exec idx from kd where\n",
    "       parent=first x,valid)<>0}[kd]{[kd;x]raze exec idx from kd where parent=last x,valid}[kd]\\\n",
    "    first exec idx from kd where parent=X,left=1,valid; / if has no right child then left child replaces \n",
    "    raze {[kd;x] (count exec idx from kd where\n",
    "       parent=first x,valid)<>0}[kd]{[kd;x]raze exec idx from kd where parent=last x,valid}[kd]\\\n",
    "    first exec idx from kd where parent=X,right=1,valid]; / get all the right children if there\n",
    "\n",
    "  newP:mindim repPt?min repPt:(raze{[kd;x] exec rep from kd where idx=x}[kd]each mindim)axis; /the min value of rep pts from mindim based on splitting dimension\n",
    "  newNode:select from kd where idx=newP,valid; /get info from kdtree of newP\n",
    "  tree:update rep:newNode`rep,initi:newNode`initi,closDist:newNode`closDist,\n",
    "    clust:newNode`clust,clustIdx:newNode`clustIdx,rDim:(first newNode`rep)axis,\n",
    "    closIdx:newNode`closIdx from kd where idx=X,valid; /newNode replaces the deleted pt info in the tree, but dim and idx stay the same as deleted pt\n",
    "  \n",
    "\n",
    "  tree:update closIdx:X from tree where closIdx=first newNode`idx; /any pt that had the replacing pt as its closest idx has to update closIdx to its new value in the tree\n",
    "  \n",
    "\n",
    "    (tree;newP)};\n",
    "\n",
    " delCl:{(count select from (first x) where parent=last x,valid)<>0}delN/(kd;n); /repeat this until reach a node with no children\n",
    " \n",
    " \n",
    " update valid:0b from first delCl where idx=last delCl} /delete the node with no children"
   ]
  },
  {
   "cell_type": "code",
   "execution_count": 47,
   "metadata": {},
   "outputs": [],
   "source": [
    "/Create tree, search init nearest neighbours\n",
    "createTree:{[sample]\n",
    "\n",
    " root:flip `idx`initi`rep`left`right`dim`parent`rDim`clust`clustIdx`valid!\n",
    "   (0;0;enlist sample[0];enlist 0;enlist 0;enlist 0;enlist 0;enlist sample[0;0];0;enlist (0 0);1b); /insert first cluster\n",
    "\n",
    " kds:insertKd/[root;(1_sample);1_til count sample;1_til count sample]; /insert the rest of the clusters\n",
    "\n",
    " kds:update clustIdx:enlist each til count sample from kds; /insert the cluster indices\n",
    "\n",
    " kds:distC/[kds;kds`initi]; /get closest cluster to each cluster\n",
    " kds\n",
    " }"
   ]
  },
  {
   "cell_type": "code",
   "execution_count": 198,
   "metadata": {},
   "outputs": [
    {
     "name": "stdout",
     "output_type": "stream",
     "text": [
      "idx initi rep               left right dim parent rDim     clust clustIdx val..\n",
      "-----------------------------------------------------------------------------..\n",
      "0   0     6.554487 7.498119 0    0     0   0      6.554487 0     0        1  ..\n",
      "1   1     3.522979 5.487981 1    0     1   0      5.487981 1     1        1  ..\n",
      "2   2     3.768699 5.364477 1    0     0   1      3.768699 2     2        1  ..\n",
      "3   3     3.423602 5.4199   1    0     1   2      5.4199   3     3        1  ..\n",
      "4   4     3.803905 5.389491 0    1     1   2      5.389491 4     4        1  ..\n",
      "5   5     3.93669  5.663041 0    1     0   1      3.93669  5     5        1  ..\n",
      "6   6     6.968136 7.755556 0    1     1   0      7.755556 6     6        1  ..\n",
      "7   7     6.750795 7.269541 1    0     0   6      6.750795 7     7        1  ..\n",
      "8   8     6.593196 7.850364 0    1     0   6      6.593196 8     8        1  ..\n",
      "9   9     6.978178 7.60985  0    1     1   7      7.60985  9     9        1  ..\n"
     ]
    }
   ],
   "source": [
    "/Create tree, search init nearest neighbours\n",
    "\n",
    "\n",
    "root:flip `idx`initi`rep`left`right`dim`parent`rDim`clust`clustIdx`valid!\n",
    "   (0;0;enlist sample[0];enlist 0;enlist 0;enlist 0;enlist 0;enlist sample[0;0];0;enlist (0 0);enlist 1b);\n",
    "\n",
    "kds:insertKd/[root;(1_sample);1_til count sample;1_til count sample]\n",
    "\n",
    "kds:update clustIdx:enlist each til count sample from kds\n",
    "\n",
    "show kds:distC/[kds;kds`initi]"
   ]
  },
  {
   "cell_type": "code",
   "execution_count": 50,
   "metadata": {},
   "outputs": [
    {
     "data": {
      "text/plain": [
       "idx initi rep                  left right dim parent rDim       clust clustId..\n",
       "-----------------------------------------------------------------------------..\n",
       "0   0     -1.567473 -1.710713  0    0     0   0      -1.567473  0     0      ..\n",
       "1   1     -1.323867 6.745647   0    1     1   0      6.745647   1     1      ..\n",
       "2   2     -10.64619 -3.684479  1    0     1   0      -3.684479  2     2      ..\n",
       "3   3     4.064173  5.552103   1    0     0   1      4.064173   3     3      ..\n",
       "4   4     -5.231518 -7.445346  1    0     0   2      -5.231518  4     4      ..\n",
       "5   5     0.7076635 4.846244   1    0     1   3      4.846244   5     5      ..\n",
       "6   6     4.10755   -0.6628848 0    1     1   3      -0.6628848 6     6      ..\n",
       "7   7     -2.231592 8.533084   0    1     0   2      -2.231592  7     7      ..\n",
       "8   8     4.009992  -0.6682384 1    0     0   5      4.009992   8     8      ..\n",
       "9   9     -4.043703 6.258881   1    0     1   7      6.258881   9     9      ..\n",
       "10  10    -2.527246 8.824091   0    1     0   9      -2.527246  10    10     ..\n",
       "11  11    1.058216  2.07053    1    0     1   8      2.07053    11    11     ..\n",
       "12  12    -8.277389 8.029361   1    0     1   10     8.029361   12    12     ..\n",
       "13  13    -6.87076  5.734845   1    0     0   9      -6.87076   13    13     ..\n",
       "14  14    -5.811577 10.30938   0    1     0   12     -5.811577  14    14     ..\n",
       "15  15    4.564759  0.4111338  0    1     0   6      4.564759   15    15     ..\n",
       "16  16    -1.640302 8.64057    0    1     1   7      8.64057    16    16     ..\n",
       "17  17    -4.754041 1.745347   0    1     1   13     1.745347   17    17     ..\n",
       "18  18    -3.58875  -3.324208  1    0     0   17     -3.58875   18    18     ..\n",
       "19  19    -4.153694 10.10757   0    1     1   14     10.10757   19    19     ..\n",
       "..\n"
      ]
     },
     "execution_count": 50,
     "metadata": {},
     "output_type": "execute_result"
    }
   ],
   "source": [
    "createTree sample"
   ]
  },
  {
   "cell_type": "code",
   "execution_count": 40,
   "metadata": {},
   "outputs": [],
   "source": [
    "clust:{[sample;numR;com;kd]\n",
    " j:first select from kd where closDist=first min closDist; /get min dist from tree\n",
    " \n",
    " j2:select clust from kd where idx=first j`closIdx; /get cluster of the closestPt\n",
    " \n",
    " old:select from kd where clust in ((j2`clust),j`clust); /get info of two clostest pts\n",
    "\n",
    " j0:(exec initi from kd where closIdx in old`idx); /get the initial indexes of those pts\n",
    " \n",
    " mean:avg pts:sample idxs:(distinct raze old`clustIdx);\n",
    " \n",
    " deleteClust:deleteN/[kd;idxs]; /delete merged clusters from tree\n",
    " \n",
    " $[(count pts)<=numR;(rep:pts;sami:idxs) ;rep:distinct sample sami:numR{[sample;idxs;x] x,maxIdx imax \n",
    "  {[sample;maxMean;x] min{[sample;x;maxMean]sum x*x:sample[maxMean]-sample[x]\n",
    "     }[sample;x] each maxMean}[sample;x]each maxIdx:idxs except x\n",
    "  }[sample;idxs]/maxFromMean:idxs imax sum each{x*x}mean-/:pts];\n",
    "  /get rep pts based on the most spread out pts in cluster, initial pt i furthest from mean\n",
    "\n",
    " rep:(rep*1-com)+\\:com*mean; /move rep pts based on compressed\n",
    " newCl:{[rep;x]min (sum each x*x:rep-\\:x)}[rep]each deleteClust`rep; /dist of new cluster to all other clusters\n",
    " j3:(deleteClust`idx)[n:where newCl<deleteClust`closDist]; /any clusters where newCl<closDist\n",
    "\n",
    " closCl: (deleteClust`idx)where newCl=closD:min newCl; /what cluster is closest to the new clusters\n",
    " insertClust:insertKd/[deleteClust;rep;sami;first idxs]; /insert new rep pts into kdtree\n",
    " insertClust2:{[n;j3;newCl;insertClust;x] update closDist:newCl(n x),closIdx:last (insertClust`idx) from \n",
    "    insertClust where idx=j3(x)}[n;j3;newCl]/[insertClust;til count j3]; /update the tree with j3\n",
    "\n",
    " clustDist:update closIdx:first closCl,closDist:closD from insertClust2 where clust=first idxs; /update closDist of new clusters\n",
    "\n",
    " j5:exec idx from clustDist where clust=first idxs; /indexes of new clusters\n",
    "\n",
    "  j4:(exec idx from clustDist where initi in j0) except j5; /any clusters that had the merged clusters as closDist\n",
    "  recalc:distC/[clustDist;j4]; /recalc those distances\n",
    "  insertIdx:enlist idxs; /initial indexes of merged cluster\n",
    " \n",
    "  kd:{[insertIdx;kd;x] update clustIdx:(insertIdx) from kd where initi=x}[insertIdx]/[recalc;sami]; /update into kdtree\n",
    " \n",
    "  kd}\n",
    "\n"
   ]
  },
  {
   "cell_type": "code",
   "execution_count": 10,
   "metadata": {},
   "outputs": [],
   "source": [
    "cure:{[sample;numR;com;numCl] \n",
    " cureTab:{[numCl;kd] (count distinct kd`clust)>numCl}[numCl]clust[sample;numR;com]/createTree sample;\n",
    " distinct cureTab`clustIdx}"
   ]
  },
  {
   "cell_type": "code",
   "execution_count": 45,
   "metadata": {},
   "outputs": [
    {
     "data": {
      "text/plain": [
       "54445 1591296\n"
      ]
     },
     "execution_count": 45,
     "metadata": {},
     "output_type": "execute_result"
    }
   ],
   "source": [
    "\\ts cure[sample;50;0;4]"
   ]
  },
  {
   "cell_type": "code",
   "execution_count": null,
   "metadata": {},
   "outputs": [],
   "source": [
    "show r:distinct a`clustIdx\n",
    "\n",
    "/show r:distinct clust`clustIdx"
   ]
  },
  {
   "cell_type": "code",
   "execution_count": null,
   "metadata": {},
   "outputs": [],
   "source": [
    "{plt[`:scatter][;]. flip sample[x]}each r;\n",
    "plt[`:show][];"
   ]
  },
  {
   "cell_type": "code",
   "execution_count": null,
   "metadata": {},
   "outputs": [],
   "source": [
    "a:(select rep by clust from clust)\n",
    "show count b:exec rep from a\n",
    "{plt[`:scatter][;]. flip x}each b;\n",
    "plt[`:show][];"
   ]
  },
  {
   "cell_type": "code",
   "execution_count": 200,
   "metadata": {},
   "outputs": [],
   "source": [
    "/insert cluster into tree\n",
    "\n",
    "insertKd:{[kd;sample2;L;clust] \n",
    "   /check if its to the left or right of initial cluster in tree\n",
    " \n",
    " dir:{(first x[0]`idx)>=0}{[sample2;kd;x] a:x[0];\n",
    "  $[first (sample2[first x[0]`dim]>(first x[0]`rDim));\n",
    "  i:update left:enlist 0,right:enlist 1 from exec idx,dim,rep,rDim from kd where right=1,parent=first a`idx,valid;\n",
    "  i:update left:enlist 1,right:enlist 0 from exec idx,dim,rep,rDim from kd where left=1,parent=first a`idx,valid];\n",
    "  (i;a)}[sample2;kd]/(i;i:exec from kd where parent=0,left=0,right=0); /insert cluster into the tree by looking at splitting dimension of each node &going left or right\n",
    "\n",
    " \n",
    " i:dir[0];\n",
    " left:i`left;\n",
    " right:i`right;\n",
    " a:dir[1];\n",
    " dim:((first a`dim)+1)mod 2; /get its new splitting dimension\n",
    " b:exec idx from kd where valid=0b;\n",
    " root:update idx:(max kd`idx)+1, initi:L,clust:clust,rep:enlist sample2,\n",
    "    valid:enlist 1b,dim:dim, rDim:sample2[dim], left:left,right:right,\n",
    "    parent:a`idx from kd where idx=first b;  /update the info of new node into tree\n",
    " \n",
    " root}"
   ]
  },
  {
   "cell_type": "code",
   "execution_count": 200,
   "metadata": {
    "scrolled": true
   },
   "outputs": [
    {
     "name": "stdout",
     "output_type": "stream",
     "text": [
      "idx initi rep               left right dim parent rDim     clust clustIdx val..\n",
      "-----------------------------------------------------------------------------..\n",
      "0   0     6.554487 7.498119 0    0     0   0      6.554487 0     0        1  ..\n",
      "1   1     3.522979 5.487981 1    0     1   0      5.487981 1     1        1  ..\n",
      "2   3     3.423602 5.4199   1    0     0   1      3.423602 3     3        1  ..\n",
      "3   3     3.423602 5.4199   1    0     1   2      5.4199   3     3        0  ..\n",
      "4   4     3.803905 5.389491 0    1     1   2      5.389491 4     4        0  ..\n",
      "5   5     3.93669  5.663041 0    1     0   1      3.93669  5     5        1  ..\n",
      "6   6     6.968136 7.755556 0    1     1   0      7.755556 6     6        1  ..\n",
      "7   7     6.750795 7.269541 1    0     0   6      6.750795 7     7        1  ..\n",
      "8   8     6.593196 7.850364 0    1     0   6      6.593196 8     8        1  ..\n",
      "9   9     6.978178 7.60985  0    1     1   7      7.60985  9     9        1  ..\n",
      "idx initi rep               left right dim parent rDim     clust clustIdx val..\n",
      "-----------------------------------------------------------------------------..\n",
      "0   0     6.554487 7.498119 0    0     0   0      6.554487 0     0        1  ..\n",
      "1   1     3.522979 5.487981 1    0     1   0      5.487981 1     1        1  ..\n",
      "2   3     3.423602 5.4199   1    0     0   1      3.423602 3     3        1  ..\n",
      "10  2     3.768699 5.364477 1    0     1   2      5.364477 3     3        1  ..\n",
      "11  4     3.803905 5.389491 0    1     1   2      5.389491 4     4        1  ..\n",
      "5   5     3.93669  5.663041 0    1     0   1      3.93669  5     5        1  ..\n",
      "6   6     6.968136 7.755556 0    1     1   0      7.755556 6     6        1  ..\n",
      "7   7     6.750795 7.269541 1    0     0   6      6.750795 7     7        1  ..\n",
      "8   8     6.593196 7.850364 0    1     0   6      6.593196 8     8        1  ..\n",
      "9   9     6.978178 7.60985  0    1     1   7      7.60985  9     9        1  ..\n"
     ]
    },
    {
     "ename": "\u001b[0;31mlength\u001b[0m",
     "evalue": "\u001b[0;31mlength\u001b[0m",
     "output_type": "error",
     "traceback": [
      "\u001b[0;31mevaluation error:\n\u001b[0m",
      "\u001b[0;31mlength\u001b[0m",
      "\u001b[0;31m\u001b[0m",
      "\u001b[0;31m  [2]  {[n;j3;a;insertClust;x] update closDist:a(n x)\n                               ^\n  ,closIdx:enlist (max (insertClust`idx)) from \n\u001b[0m",
      "\u001b[0;31m  [1]  \n  ,closIdx:enlist (max (insertClust`idx)) from \n    insertClust where idx=j3(x)}[n;j3;a]/[insertClust;til count j3]];\n                                        ^\n clustDist:update closIdx:first b,closDist:c from insertClust2 where clust=first idxs;\n\u001b[0m",
      "\u001b[0;31m  [0]  \n  show kd:{[insertIdx;kd;x] update clustIdx:insertIdx from kd where initi=x}[insertIdx]/[recalc;sami];\n  kd}[sample;numR;com]/kds\n                      ^\n\u001b[0m"
     ]
    }
   ],
   "source": [
    "numR:5\n",
    "com:0\n",
    "numCl:2\n",
    "\n",
    "\\ts clust:{[numCl;kd] (count distinct kd`clust)>numCl}[numCl]{[sample;numR;com;kd]\n",
    " j:first select from kd where closDist=first min closDist;\n",
    " \n",
    " j2:select clust from kd where idx=first j`closIdx;\n",
    " /show select idx, closDist,closIdx,clust from kd where closIdx=650;\n",
    " \n",
    " old:select from kd where clust in ((j2`clust),j`clust);\n",
    " j0:(exec initi from kd where closIdx in old`idx);\n",
    " \n",
    " mean:avg pts:sample idxs:(distinct raze old`clustIdx);\n",
    " \n",
    " show deleteClust:deleteN/[kd;idxs];\n",
    " \n",
    " maxFromMean:idxs imax sum each{x*x}mean-/:pts;\n",
    " \n",
    " rep:distinct sample sami:numR{[sample;idxs;x] x,maxIdx imax {[sample;maxMean;x] min{[sample;x;maxMean]sum x*x:sample[maxMean]-sample[x]\n",
    "     }[sample;x] each maxMean}[sample;x]each maxIdx:idxs except x}[sample;idxs]/maxFromMean;\n",
    " \n",
    " rep:(rep*1-com)+\\:com*mean;\n",
    " a:{[rep;x]min (sum each x*x:rep-\\:x)}[rep]each deleteClust`rep;\n",
    " j3:(deleteClust`idx)[n:where a<deleteClust`closDist];\n",
    " b: (deleteClust`idx)where a=c:min a;\n",
    " show insertClust:insertKd/[deleteClust;rep;sami;first idxs];\n",
    " insertClust2:$[(count j3)=0;insertClust;{[n;j3;a;insertClust;x] update closDist:a(n x)\n",
    "  ,closIdx:enlist (max (insertClust`idx)) from \n",
    "    insertClust where idx=j3(x)}[n;j3;a]/[insertClust;til count j3]];\n",
    " clustDist:update closIdx:first b,closDist:c from insertClust2 where clust=first idxs;\n",
    " /clustDist:distC/[insertClust2; j5:exec idx from insertClust2 where clust=first idxs];\n",
    " j5:exec idx from insertClust2 where clust=first idxs;\n",
    " j4:(exec idx from clustDist where initi in j0) except j5;\n",
    "\n",
    " recalc:distC/[clustDist;j4];\n",
    " insertIdx:enlist idxs;\n",
    "  show kd:{[insertIdx;kd;x] update clustIdx:insertIdx from kd where initi=x}[insertIdx]/[recalc;sami];\n",
    "  kd}[sample;numR;com]/kds"
   ]
  },
  {
   "cell_type": "code",
   "execution_count": null,
   "metadata": {},
   "outputs": [],
   "source": []
  },
  {
   "cell_type": "code",
   "execution_count": 77,
   "metadata": {},
   "outputs": [
    {
     "name": "stdout",
     "output_type": "stream",
     "text": [
      "idx initi rep             left right dim parent rDim   clust clustIdx valid c..\n",
      "-----------------------------------------------------------------------------..\n",
      "3   3     3.423602 5.4199 1    0     1   2      5.4199 3     3        0     0..\n"
     ]
    },
    {
     "ename": "\u001b[0;31mtype\u001b[0m",
     "evalue": "\u001b[0;31mtype\u001b[0m",
     "output_type": "error",
     "traceback": [
      "\u001b[0;31mevaluation error:\n\u001b[0m",
      "\u001b[0;31mtype\u001b[0m",
      "\u001b[0;31m\u001b[0m",
      "\u001b[0;31m  [2]  insertKd:\n\n root:update idx:(max kd`idx)+1,initi:L,clust:clust,rep:enlist sample2,\n      ^\n    rDim:enlist sample2[dim],dim:enlist dim,valid:1b,\n\u001b[0m",
      "\u001b[0;31m  [1]  \n\n insertClust:insertKd/[deleteClust;rep;sami;first idxs]; /insert new rep pts into kdtree\n                     ^\n j4:exec idx from insertClust where initi in j0; /any clusters that had merged cluster as closest \n\u001b[0m",
      "\u001b[0;31m  [0]  \n \n  kd}[sample;numR;com]/kds\n                      ^\n\u001b[0m"
     ]
    }
   ],
   "source": [
    "numR:10\n",
    "com:0\n",
    "numCl:4\n",
    "\n",
    "\\ts clust:{[numCl;kd] (count distinct kd`clust)>numCl}[numCl]{[sample;numR;com;kd]\n",
    " j:first select from kd where closDist=first min closDist; /get min dist from tree\n",
    " \n",
    " j2:select clust from kd where idx=first j`closIdx; /get cluster of the closestPt\n",
    " \n",
    " old:select from kd where clust in ((j2`clust),j`clust); /get info of two clostest pts\n",
    " j0:exec initi from kd where closIdx in old`idx; /get the initial indexes of those pts\n",
    " \n",
    " mean:avg pts:sample idxs:(distinct raze old`clustIdx); \n",
    "  \n",
    "\n",
    " deleteClust:deleteN/[kd;idxs]; /delete merged clusters from tree\n",
    " show select from deleteClust where valid=0b;\n",
    " maxFromMean:idxs imax sum each{x*x}mean-/:pts; /get pt with max dist from mean of cluster\n",
    " \n",
    " rep:distinct sample sami:numR{[sample;idxs;x] x,maxIdx imax {[sample;maxMean;x] min{[sample;x;maxMean\n",
    "  ]sum x*x:sample[maxMean]-sample[x]\n",
    "     }[sample;x] each maxMean}[sample;x]each maxIdx:idxs except x}[sample;idxs]/maxFromMean; \n",
    " /get rep pts based on the most spread out pts in cluster\n",
    " \n",
    " rep:(rep*1-com)+\\:com*mean; /move rep pts bsaed on compressed\n",
    "\n",
    " insertClust:insertKd/[deleteClust;rep;sami;first idxs]; /insert new rep pts into kdtree\n",
    " j4:exec idx from insertClust where initi in j0; /any clusters that had merged cluster as closest \n",
    " \n",
    " clustDist:distC/[insertClust;distinct (exec idx from insertClust where clust=first idxs),j4]; /recalc dist of new inserted pts and j4  \n",
    "\n",
    " \n",
    " insertIdx:enlist idxs; /initial indexes of merged cluster\n",
    " kd:{[insertIdx;kd;x] update clustIdx:(insertIdx) from kd where initi=x}[insertIdx]/[clustDist;sami]; /update into kdtree\n",
    " \n",
    "  kd}[sample;numR;com]/kds"
   ]
  },
  {
   "cell_type": "code",
   "execution_count": null,
   "metadata": {},
   "outputs": [],
   "source": []
  }
 ],
 "metadata": {
  "kernelspec": {
   "display_name": "Q (kdb+)",
   "language": "q",
   "name": "qpk"
  },
  "language_info": {
   "file_extension": ".q",
   "mimetype": "text/x-q",
   "name": "q",
   "version": "3.6.0"
  }
 },
 "nbformat": 4,
 "nbformat_minor": 2
}
