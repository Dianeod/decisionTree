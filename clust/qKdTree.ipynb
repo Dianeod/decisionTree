{
 "cells": [
  {
   "cell_type": "code",
   "execution_count": 1,
   "metadata": {},
   "outputs": [],
   "source": [
    "\\l cureOrig.q\n",
    "sample:readsam[SIMPLE_SAMPLES[`:SAMPLE_SIMPLE4]]`\n",
    "/show sample:readsam[FCPS_SAMPLES[`:SAMPLE_CHAINLINK]]`\n",
    "/sample:readsam[FCPS_SAMPLES[`:SAMPLE_TARGET]]`"
   ]
  },
  {
   "cell_type": "code",
   "execution_count": 2,
   "metadata": {},
   "outputs": [
    {
     "name": "stdout",
     "output_type": "stream",
     "text": [
      "-1.567473 -1.710713 \n",
      "-1.323867 6.745647  \n",
      "-10.64619 -3.684479 \n",
      "4.064173  5.552103  \n",
      "-5.231518 -7.445346 \n",
      "0.7076635 4.846244  \n",
      "4.10755   -0.6628848\n",
      "-2.231592 8.533084  \n",
      "4.009992  -0.6682384\n",
      "-4.043703 6.258881  \n",
      "-2.527246 8.824091  \n",
      "1.058216  2.07053   \n",
      "-8.277389 8.029361  \n",
      "-6.87076  5.734845  \n",
      "-5.811577 10.30938  \n",
      "4.564759  0.4111338 \n",
      "-1.640302 8.64057   \n",
      "-4.754041 1.745347  \n",
      "-3.58875  -3.324208 \n",
      "-4.153694 10.10757  \n",
      "3.114207  -4.289113 \n",
      "3.286772  2.527686  \n",
      "..\n"
     ]
    }
   ],
   "source": [
    "dsc:{[n;r;s](r+n?s-r)*/:(cos;sin)@\\:4*n?acos 0}\n",
    "data :flip(-5 1)+(1 1.5)*dsc[1000; 0;1.8],'dsc[2000;3.1;4.2],'dsc[4000;5.2;6.5]\n",
    "data,:flip(4 -1)+(1 8)*dsc[4000; 0;1.]\n",
    "data@:neg[2000&count data]?count data\n",
    "sample:data"
   ]
  },
  {
   "cell_type": "code",
   "execution_count": 3,
   "metadata": {},
   "outputs": [],
   "source": [
    "show sample:sample a,((til count sample) except a:sample?((asc sample)(floor(count sample)%2)))\n",
    "dim:1_(til (first distinct count each sample)+1),1"
   ]
  },
  {
   "cell_type": "code",
   "execution_count": 4,
   "metadata": {},
   "outputs": [],
   "source": [
    "/insert cluster into tree\n",
    "\n",
    "insertKd1:{[kd;sample2;L;clust] \n",
    "   /check if its to the left or right of initial cluster in tree\n",
    " \n",
    " dir:{(first x[0]`idx)>=0}{[sample2;kd;x] a:x[0];\n",
    "  $[first (sample2[first x[0]`dim]>(first x[0]`rDim));\n",
    "  i:update left:enlist 0,right:enlist 1 from exec idx,dim,rep,rDim from kd where right=1,parent=first a`idx;\n",
    "  i:update left:enlist 1,right:enlist 0 from exec idx,dim,rep,rDim from kd where left=1,parent=first a`idx];\n",
    "  (i;a)}[sample2;kd]/(i;i:exec from kd where parent=0,left=0,right=0); /insert cluster into the tree by looking at splitting dimension of each node &going left or right\n",
    "\n",
    " \n",
    " i:dir[0];\n",
    " a:dir[1];\n",
    " dim:((first a`dim)+1)mod 2; /get its new splitting dimension\n",
    "\n",
    "\n",
    " root:kd upsert flip update idx:(max kd`idx)+1,initi:L,clust:clust,rep:enlist sample2,\n",
    "    rDim:enlist sample2[dim],dim:enlist dim,valid:1b,\n",
    "    parent:enlist first a`idx from exec left,right from i; /update the info of new node into tree\n",
    " root}"
   ]
  },
  {
   "cell_type": "code",
   "execution_count": 5,
   "metadata": {},
   "outputs": [],
   "source": [
    "/insert cluster into tree\n",
    "\n",
    "insertKd:{[kd;sample2;L;cl] \n",
    "   /check if its to the left or right of initial cluster in tree\n",
    " \n",
    " dir:{(first x[0]`idx)>=0}{[sample2;kd;x] a:x[0];\n",
    "  $[first (sample2[first x[0]`dim]>(first x[0]`rDim));\n",
    "  i:update left:enlist 0,right:enlist 1 from exec idx,dim,rep,rDim from kd where right=1,parent=first a`idx,valid;\n",
    "  i:update left:enlist 1,right:enlist 0 from exec idx,dim,rep,rDim from kd where left=1,parent=first a`idx,valid];\n",
    "  (i;a)}[sample2;kd]/(i;i:exec from kd where parent=0,left=0,right=0); /insert cluster into the tree by looking at splitting dimension of each node &going left or right\n",
    "\n",
    " i:dir[0];\n",
    " left1:i`left;\n",
    " right1:i`right;\n",
    " a:dir[1];\n",
    " dim:((first a`dim)+1)mod 2; /get its new splitting dimension\n",
    " b:exec idx from kd where valid=0b;\n",
    " root:update idx:(max kd`idx)+1, initi:L, clust:cl,rep:enlist sample2,\n",
    "    valid:enlist 1b,dim:dim, rDim:sample2[dim],left:left1,right:right1,\n",
    "    parent:a`idx from kd where idx=first b;  /update the info of new node into tree\n",
    " \n",
    " root}"
   ]
  },
  {
   "cell_type": "code",
   "execution_count": 6,
   "metadata": {},
   "outputs": [],
   "source": [
    "/Calculating distances between clusters using kd tree. \n",
    "\n",
    "\n",
    "distC:{[kd;pt] \n",
    " \n",
    " distCalc:{[kd;query;bestD]\n",
    "   \n",
    " X:bestD[3]; / nodes that were already searched, not to be searched again\n",
    "    \n",
    " cl:bestD[5]; / what cluster the node belongs to, as not to search any points in the same cluster\n",
    " n:bestD[1]; /nodes to search\n",
    " a:n where {[cl;kd;x](first exec clust from kd where idx=x,valid)<>cl}[cl;kd]each n; /nodes to search that arent in the same cluster\n",
    "  \n",
    " newD:imins,a i?imins:min i:{[kd;query;x] \n",
    "    sum m*m:(raze exec rep from kd where idx=x,valid)-query}[kd;query] each a; /get minimum dist of all searched nodes\n",
    "\n",
    "  $[(newD[0]<bestD[0])&(count a)<>0;(bestD[0]:newD[0];bestD[2]:newD[1])\n",
    "     ;(bestD:bestD)]; /if new dist is less than current best dist, then that becomes new best dist\n",
    "  \n",
    "  axisD:(raze {[kd;bestD;query;x] $[(m*m:\n",
    "    (first exec rDim from kd where idx=x,valid)-\n",
    "    query(first exec dim from kd where idx=x,valid))<=bestD[0];\n",
    "    (exec idx from kd where parent=x,valid),exec parent from kd where idx=x,valid;\n",
    "    $[(query(first exec dim from kd where idx=x,valid))<\n",
    "    first exec rDim from kd where idx=x,valid;\n",
    "    (exec idx from kd where parent=x,left=1,valid),exec parent from kd where idx=x,valid;\n",
    "    (exec idx from kd where parent=x,right=1,valid),exec parent from kd where idx=x,valid]]\n",
    "    }[kd;bestD;query]each n)except bestD[3]:X,n; /get dists between node and search pts based on splitting dimension.\n",
    "    /if =< than best Dist, than search the children of that node &parents.\n",
    "    /Go up the tree and to the left/right based on whether that pt is <or> search pt\n",
    "  \n",
    " (bestD[0];distinct axisD;bestD[2];bestD[3];bestD[4];cl)};\n",
    " dist:{[distCalc;kd;X] ({(count x[1])<>0}distCalc[kd;\n",
    "    raze exec rep from kd where idx=X,valid]/(0W;\n",
    "    (raze (exec idx from kd where parent=X,valid),exec parent from kd where idx=X,valid)except X;X;X;X\n",
    "    ;first exec clust from kd where idx=X))\n",
    "    }[distCalc;kd;pt];\n",
    "    \n",
    "    kdC:update closDist:dist[0],closIdx:dist[2] from kd where idx=pt; /update new closDist and idx in tree\n",
    "    kdC}"
   ]
  },
  {
   "cell_type": "code",
   "execution_count": 26,
   "metadata": {},
   "outputs": [],
   "source": [
    "/ delete from kd tree\n",
    "\n",
    "deleteN:{[kd;X] \n",
    " n:first exec idx from kd where initi=X,valid;\n",
    " delN:{\n",
    "  kd:x[0]; /kdtree\n",
    "  X:x[1]; /point to be deleted\n",
    "  delNode:select from kd where idx=X,valid; /details of deleted pt\n",
    "  axis:delNode`dim; /splitting dim\n",
    "\n",
    "  mindim:$[(count exec idx from kd where right=1,parent=X,valid)=0;\n",
    "    raze {[kd;x](count exec idx from kd where\n",
    "       parent=first x,valid)<>0}[kd]{[kd;x]raze exec idx from kd where parent in x,valid}[kd]\\\n",
    "    first exec idx from kd where parent=X,left=1,valid; / if has no right child then left child replaces \n",
    "    raze {[kd;x] (count exec idx from kd where\n",
    "       parent=first x,valid)<>0}[kd]{[kd;x]raze exec idx from kd where parent in x,valid}[kd]\\\n",
    "    first exec idx from kd where parent=X,right=1,valid]; / get all the right children if there\n",
    "\n",
    "  newP:mindim repPt?min repPt:(raze{[kd;x] exec rep from kd where idx=x,valid}[kd]each mindim)axis; /the min value of rep pts from mindim based on splitting dimension\n",
    "  newNode:select from kd where idx=newP,valid; /get info from kdtree of newP\n",
    "  tree:update rep:newNode`rep,initi:newNode`initi,closDist:newNode`closDist,\n",
    "    clust:newNode`clust,clustIdx:newNode`clustIdx,rDim:(first newNode`rep)axis,\n",
    "    closIdx:newNode`closIdx from kd where idx=X,valid; /newNode replaces the deleted pt info in the tree, but dim and idx stay the same as deleted pt\n",
    "  \n",
    "\n",
    "  tree:update closIdx:X from tree where closIdx=first newNode`idx,valid; /any pt that had the replacing pt as its closest idx has to update closIdx to its new value in the tree\n",
    "  \n",
    "\n",
    "    (tree;newP)};\n",
    "\n",
    " delCl:{(count select from (first x) where parent=last x,valid)<>0}delN/(kd;n); /repeat this until reach a node with no children\n",
    " \n",
    " \n",
    " update valid:0b from first delCl where idx=last delCl} /delete the node with no children"
   ]
  },
  {
   "cell_type": "code",
   "execution_count": null,
   "metadata": {},
   "outputs": [],
   "source": [
    "deleteN:{[kd;X]\n",
    " n:first exec idx from kd where initi=X,valid;\n",
    " delN:{\n",
    "  kd:x[0]; /kdtree\n",
    "  X:x[1]; /point to be deleted\n",
    "  delNode:kd X; /details of deleted pt\n",
    "  axis:delNode`dim; /splitting dim\n",
    "\n",
    "  mindim:$[(count exec idx from kd where right=1,parent=X,valid)=0;\n",
    "    raze {[kd;x](count exec idx from kd where\n",
    "       parent in x,valid)<>0}[kd]{[kd;old;x]old,raze exec idx from kd where parent in x,valid}[kd]/\n",
    "    first exec idx from kd where parent=X,left=1,valid; / if has no right child then left child replaces\n",
    "    raze {[kd;x] (count exec idx from kd where\n",
    "       parent in x,valid)<>0}[kd]{[kd;x]raze exec idx from kd where parent in x,valid}[kd]/\n",
    "    first exec idx from kd where parent=X,right=1,valid]; / get all the right children if there\n",
    "\n",
    "  newP:mindim repPt?min repPt:(raze{[kd;x] exec rep from kd where idx=x,valid}[kd]each mindim)axis; /the min value of rep pts from mindim based on splitting dimension\n",
    "  newNode:kd newP; /get info from kdtree of newP\n",
    "  tree:update rep:enlist newNode`rep,initi:newNode`initi,closDist:newNode`closDist,\n",
    "    clust:newNode`clust,clustIdx:enlist newNode`clustIdx,rDim:(newNode`rep)axis,\n",
    "    closIdx:newNode`closIdx from kd where idx=X,valid; /newNode replaces the deleted pt info in the tree, but dim and idx stay the same as deleted pt\n",
    "\n",
    "\n",
    "  tree:update closIdx:X from tree where closIdx=first newNode`idx,valid; /any pt that had the replacing pt as its closest idx has to update closIdx to its new value in the tree\n",
    "\n",
    "\n",
    "    (tree;newP)};\n",
    "\n",
    " delCl:{(count select from (first x) where parent=last x,valid)<>0}delN/(kd;n); /repeat this until reach a node with no children\n",
    "\n",
    "\n",
    " update valid:0b from first delCl where idx=last delCl} /delete the node with no children\n"
   ]
  },
  {
   "cell_type": "code",
   "execution_count": null,
   "metadata": {},
   "outputs": [],
   "source": [
    "$[(count pts)<=numR;(rep:pts;sami:idxs);rep:sample sami:numR{[sample;idxs;x] x,maxIdx imax\n",
    "  {[sample;maxMean;x] min{[sample;x;maxMean]sum x*x:sample[maxMean]-sample[x]\n",
    "     }[sample;x] each maxMean}[sample;x]each maxIdx:idxs except x\n",
    "  }[sample;idxs]/maxFromMean:idxs imax sum each{x*x}mean-/:pts];"
   ]
  },
  {
   "cell_type": "code",
   "execution_count": 8,
   "metadata": {},
   "outputs": [
    {
     "name": "stdout",
     "output_type": "stream",
     "text": [
      "idx initi rep                  left right dim parent rDim       clust clustId..\n",
      "-----------------------------------------------------------------------------..\n",
      "0   0     -1.567473 -1.710713  0    0     0   0      -1.567473  0     0      ..\n",
      "1   1     -1.323867 6.745647   0    1     1   0      6.745647   1     1      ..\n",
      "2   2     -10.64619 -3.684479  1    0     1   0      -3.684479  2     2      ..\n",
      "3   3     4.064173  5.552103   1    0     0   1      4.064173   3     3      ..\n",
      "4   4     -5.231518 -7.445346  1    0     0   2      -5.231518  4     4      ..\n",
      "5   5     0.7076635 4.846244   1    0     1   3      4.846244   5     5      ..\n",
      "6   6     4.10755   -0.6628848 0    1     1   3      -0.6628848 6     6      ..\n",
      "7   7     -2.231592 8.533084   0    1     0   2      -2.231592  7     7      ..\n",
      "8   8     4.009992  -0.6682384 1    0     0   5      4.009992   8     8      ..\n",
      "9   9     -4.043703 6.258881   1    0     1   7      6.258881   9     9      ..\n",
      "10  10    -2.527246 8.824091   0    1     0   9      -2.527246  10    10     ..\n",
      "11  11    1.058216  2.07053    1    0     1   8      2.07053    11    11     ..\n",
      "12  12    -8.277389 8.029361   1    0     1   10     8.029361   12    12     ..\n",
      "13  13    -6.87076  5.734845   1    0     0   9      -6.87076   13    13     ..\n",
      "14  14    -5.811577 10.30938   0    1     0   12     -5.811577  14    14     ..\n",
      "15  15    4.564759  0.4111338  0    1     0   6      4.564759   15    15     ..\n",
      "16  16    -1.640302 8.64057    0    1     1   7      8.64057    16    16     ..\n",
      "17  17    -4.754041 1.745347   0    1     1   13     1.745347   17    17     ..\n",
      "18  18    -3.58875  -3.324208  1    0     0   17     -3.58875   18    18     ..\n",
      "19  19    -4.153694 10.10757   0    1     1   14     10.10757   19    19     ..\n",
      "..\n"
     ]
    }
   ],
   "source": [
    "/Create tree, search init nearest neighbours\n",
    "\n",
    "\n",
    "root:flip `idx`initi`rep`left`right`dim`parent`rDim`clust`clustIdx`valid!\n",
    "   (0;0;enlist sample[0];enlist 0;enlist 0;enlist 0;enlist 0;enlist sample[0;0];0;enlist (0 0);enlist 1b);\n",
    "\n",
    "kds:insertKd1/[root;(1_sample);1_til count sample;1_til count sample]\n",
    "\n",
    "kds:update clustIdx:enlist each til count sample from kds\n",
    "\n",
    "show kds:distC/[kds;kds`initi]"
   ]
  },
  {
   "cell_type": "code",
   "execution_count": 12,
   "metadata": {},
   "outputs": [],
   "source": [
    "/Create tree, search init nearest neighbours\n",
    "createTree:{[sample]\n",
    "\n",
    " root:flip `idx`initi`rep`left`right`dim`parent`rDim`clust`clustIdx`valid!\n",
    "   (0;0;enlist sample[0];enlist 0;enlist 0;enlist 0;enlist 0;enlist sample[0;0];0;enlist (0 0);1b); /insert first cluster\n",
    "\n",
    " kds:insertKd1/[root;(1_sample);1_til count sample;1_til count sample]; /insert the rest of the clusters\n",
    "\n",
    " kds:update clustIdx:enlist each til count sample from kds; /insert the cluster indices\n",
    "\n",
    " kds:distC/[kds;kds`initi]; /get closest cluster to each cluster\n",
    " kds\n",
    " }\n"
   ]
  },
  {
   "cell_type": "code",
   "execution_count": null,
   "metadata": {},
   "outputs": [],
   "source": [
    "createTree sample"
   ]
  },
  {
   "cell_type": "code",
   "execution_count": 9,
   "metadata": {},
   "outputs": [
    {
     "data": {
      "text/plain": [
       "55121 1621184\n"
      ]
     },
     "execution_count": 9,
     "metadata": {},
     "output_type": "execute_result"
    }
   ],
   "source": [
    "numR:50\n",
    "com:0\n",
    "numCl:4\n",
    "\n",
    "\\ts clust:{[numCl;kd] (count distinct (select from kd where valid)`clust)>numCl}[numCl]{[sample;numR;com;kd]\n",
    " kd2:select from kd where valid;\n",
    " j:first select from kd2 where closDist=min closDist;\n",
    " \n",
    " j2:select clust from kd where idx=first j`closIdx,valid;\n",
    " \n",
    " old:select from kd where clust in ((j2`clust),j`clust),valid;\n",
    " j0:(exec initi from kd where closIdx in old`idx,valid);\n",
    " \n",
    " mean:avg pts:sample idxs:(distinct raze old`clustIdx);\n",
    " \n",
    " deleteClust:deleteN/[kd;idxs];\n",
    " \n",
    " maxFromMean:idxs imax sum each{x*x}mean-/:pts;\n",
    " \n",
    " rep:distinct sample sami:numR{[sample;idxs;x] x,maxIdx imax {[sample;maxMean;x] min{[sample;x;maxMean]sum x*x:sample[maxMean]-sample[x]\n",
    "     }[sample;x] each maxMean}[sample;x]each maxIdx:idxs except x}[sample;idxs]/maxFromMean;\n",
    " \n",
    " rep:(rep*1-com)+\\:com*mean;\n",
    " a:{[rep;x]min (sum each x*x:rep-\\:x)}[rep]each (exec rep from deleteClust where valid);\n",
    " j3:(exec idx from deleteClust where valid)[n:where a<(exec closDist from deleteClust where valid)];\n",
    " b: (exec idx from deleteClust where valid)where a=c:min a;\n",
    " insertClust:insertKd/[deleteClust;rep;sami;(first idxs)];\n",
    " insertClust2:$[(count j3)=0;insertClust;{[n;j3;a;insertClust;x] update closDist:a(n x)\n",
    "  ,closIdx:enlist (max (insertClust`idx)) from \n",
    "    insertClust where idx=j3(x)}[n;j3;a]/[insertClust;til count j3]];\n",
    "\n",
    " clustDist:update closIdx:first b,closDist:c from insertClust2 where clust=first idxs;\n",
    " /clustDist:distC/[insertClust2; j5:exec idx from insertClust2 where clust=first idxs];\n",
    " j5:exec idx from insertClust2 where clust=first idxs,valid;\n",
    " j4:(exec idx from clustDist where initi in j0,valid) except j5;\n",
    "\n",
    " recalc:distC/[clustDist;j4];\n",
    " insertIdx:enlist idxs;\n",
    " kd:{[insertIdx;kd;x] update clustIdx:insertIdx from kd where initi=x,valid}[insertIdx]/[recalc;sami];\n",
    "  kd}[sample;numR;com]/kds"
   ]
  },
  {
   "cell_type": "code",
   "execution_count": 30,
   "metadata": {},
   "outputs": [],
   "source": [
    "clust:{[sample;numR;com;kd]\n",
    " kd2:select from kd where valid;\n",
    " j:first select from kd2 where closDist=min closDist;\n",
    " \n",
    " j2:select clust from kd2 where idx=first j`closIdx;\n",
    " \n",
    " old:select from kd2 where clust in ((j2`clust),j`clust);\n",
    " j0:(exec initi from kd2 where closIdx in old`idx);\n",
    " \n",
    " mean:avg pts:sample idxs:(distinct raze old`clustIdx);\n",
    " \n",
    " deleteClust:deleteN/[kd;idxs];\n",
    " \n",
    " maxFromMean:idxs imax sum each{x*x}mean-/:pts;\n",
    " \n",
    " rep:distinct sample sami:numR{[sample;idxs;x] x,maxIdx imax {[sample;maxMean;x] min{[sample;x;maxMean]sum x*x:sample[maxMean]-sample[x]\n",
    "     }[sample;x] each maxMean}[sample;x]each maxIdx:idxs except x}[sample;idxs]/maxFromMean;\n",
    " \n",
    " rep:(rep*1-com)+\\:com*mean;\n",
    " a:{[rep;x]min (sum each x*x:rep-\\:x)}[rep]each (exec rep from deleteClust where valid);\n",
    " j3:(exec idx from deleteClust where valid)[n:where a<(exec closDist from deleteClust where valid)];\n",
    " b: (exec idx from deleteClust where valid)where a=c:min a;\n",
    " insertClust:insertKd/[deleteClust;rep;sami;(first idxs)];\n",
    " insertClust2:$[(count j3)=0;insertClust;{[n;j3;a;insertClust;x] update closDist:a(n x)\n",
    "  ,closIdx:enlist (max (insertClust`idx)) from \n",
    "    insertClust where idx=j3(x)}[n;j3;a]/[insertClust;til count j3]];\n",
    "\n",
    " clustDist:update closIdx:first b,closDist:c from insertClust2 where clust=first idxs;\n",
    " /clustDist:distC/[insertClust2; j5:exec idx from insertClust2 where clust=first idxs];\n",
    " j5:exec idx from insertClust2 where clust=first idxs,valid;\n",
    " j4:(exec idx from clustDist where initi in j0,valid) except j5;\n",
    "\n",
    " recalc:distC/[clustDist;j4];\n",
    " insertIdx:enlist idxs;\n",
    "\n",
    "  kd:{[insertIdx;kd;x] update clustIdx:(insertIdx) from kd where initi=x,valid}[insertIdx]/[recalc;sami]; /update into kdtree\n",
    "\n",
    "  kd}\n"
   ]
  },
  {
   "cell_type": "code",
   "execution_count": 31,
   "metadata": {},
   "outputs": [],
   "source": [
    "cure:{[sample;numR;com;numCl] \n",
    " cureTab:{[numCl;kd] (count distinct (select from kd where valid)`clust)>numCl}[numCl]clust[sample;numR;com]/createTree sample;\n",
    " distinct (select from cureTab where valid)`clustIdx}"
   ]
  },
  {
   "cell_type": "code",
   "execution_count": 18,
   "metadata": {},
   "outputs": [],
   "source": [
    "sample:get`:sample"
   ]
  },
  {
   "cell_type": "code",
   "execution_count": 32,
   "metadata": {},
   "outputs": [],
   "source": [
    "aa:cure[sample;50;0;4]"
   ]
  },
  {
   "cell_type": "code",
   "execution_count": 35,
   "metadata": {},
   "outputs": [],
   "source": [
    "/show r:distinct (select from aa where valid)`clustIdx\n",
    "bb:get`:aa\n",
    "r:bb"
   ]
  },
  {
   "cell_type": "code",
   "execution_count": 36,
   "metadata": {},
   "outputs": [
    {
     "data": {
      "image/png": "[encoded data removed]",
      "text/plain": [
       "<Figure size 460.8x345.6 with 1 Axes>"
      ]
     },
     "metadata": {},
     "output_type": "display_data"
    }
   ],
   "source": [
    "{plt[`:scatter][;]. flip sample[x]}each r;\n",
    "plt[`:show][];"
   ]
  },
  {
   "cell_type": "code",
   "execution_count": 29,
   "metadata": {},
   "outputs": [
    {
     "data": {
      "text/plain": [
       "587\n"
      ]
     },
     "execution_count": 29,
     "metadata": {},
     "output_type": "execute_result"
    }
   ],
   "source": []
  },
  {
   "cell_type": "code",
   "execution_count": null,
   "metadata": {},
   "outputs": [],
   "source": []
  }
 ],
 "metadata": {
  "kernelspec": {
   "display_name": "Q (kdb+)",
   "language": "q",
   "name": "qpk"
  },
  "language_info": {
   "file_extension": ".q",
   "mimetype": "text/x-q",
   "name": "q",
   "version": "3.6.0"
  }
 },
 "nbformat": 4,
 "nbformat_minor": 2
}
